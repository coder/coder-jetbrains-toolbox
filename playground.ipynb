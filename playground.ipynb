{
 "cells": [
  {
   "metadata": {
    "ExecuteTime": {
     "end_time": "2025-10-13T19:21:18.748657Z",
     "start_time": "2025-10-13T19:21:18.421817Z"
    }
   },
   "cell_type": "code",
   "source": [
    "import java.net.URLEncoder\n",
    "import java.nio.charset.StandardCharsets\n",
    "\n",
    "data class Inner(var txt: String?)\n",
    "data class Outer(val inner: Inner)\n",
    "\n",
    "fun firstApproach() {\n",
    "    val o = Outer(Inner(null))\n",
    "    val res = listOf<String?>(\n",
    "        \"--begin\",\n",
    "        \"--acs\",\n",
    "        if (!o.inner.txt.isNullOrBlank()) \"--header-command\" else null,\n",
    "        \"--end\"\n",
    "    )\n",
    "\n",
    "    println(res)\n",
    "}\n",
    "\n",
    "fun secondApproach() {\n",
    "    val o = Outer(Inner(null))\n",
    "    val res = listOf<String?>(\n",
    "        \"--begin\",\n",
    "        \"--acs\",\n",
    "        o.inner.txt?.takeIf { it.isNotBlank() }?.let { \"--header-command\" },\n",
    "        \"--end\"\n",
    "    )\n",
    "\n",
    "    println(res)\n",
    "}\n",
    "\n",
    "firstApproach()\n",
    "secondApproach()\n",
    "\n",
    "// https://dev.coder.com/oauth2/authorize?client_id=f8088cf1-6c3f-454a-8d48-9f86d161e845&response_type=code&code_challenge=kKhqZ3rTJwm5J1K5TSjWJ1meJXSr5Bd-fPzVBsqXdHY&redirect_uri=jetbrains://gateway/com.coder.toolbox/auth&state=d29de88b-c54d-4e2a-9de0-685b554895ed&code_challenge_method=S256\n",
    "\n",
    "\"jetbrains://gateway/com.coder.toolbox/oauth\"\n",
    "println(URLEncoder.encode(\"jetbrains://gateway/com.coder.toolbox/oauth\", StandardCharsets.UTF_8.toString()))"
   ],
   "outputs": [
    {
     "name": "stdout",
     "output_type": "stream",
     "text": [
      "[--begin, --acs, null, --end]\n",
      "[--begin, --acs, null, --end]\n",
      "jetbrains%3A%2F%2Fgateway%2Fcom.coder.toolbox%2Foauth\n"
     ]
    }
   ],
   "execution_count": 1
  }
 ],
 "metadata": {
  "kernelspec": {
   "display_name": "Kotlin",
   "language": "kotlin",
   "name": "kotlin"
  },
  "language_info": {
   "name": "kotlin",
   "version": "1.9.23",
   "mimetype": "text/x-kotlin",
   "file_extension": ".kt",
   "pygments_lexer": "kotlin",
   "codemirror_mode": "text/x-kotlin",
   "nbconvert_exporter": ""
  }
 },
 "nbformat": 4,
 "nbformat_minor": 0
}
